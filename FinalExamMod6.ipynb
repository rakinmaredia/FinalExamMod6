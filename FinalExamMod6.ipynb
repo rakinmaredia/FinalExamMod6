{
 "cells": [
  {
   "cell_type": "markdown",
   "id": "4f3a4136",
   "metadata": {},
   "source": [
    "# Data Science Tools and Ecosystem"
   ]
  },
  {
   "cell_type": "markdown",
   "id": "30ee81fe",
   "metadata": {},
   "source": [
    "In this notebook, Data Science Tools and Ecosystem are summarized."
   ]
  },
  {
   "cell_type": "markdown",
   "id": "5a1a26ae",
   "metadata": {},
   "source": [
    "### Some of the popular languages that Data Scientists use are:\n",
    "1) Python\n",
    "2) R\n",
    "3) SQL\n"
   ]
  },
  {
   "cell_type": "markdown",
   "id": "6ec29402",
   "metadata": {},
   "source": [
    "#### Some of the commonly used libraries used by Data Scientists include:\n",
    "1) MatPlotLib\n",
    "2) Keras\n",
    "3) NumPy\n",
    "4) TensorFlow\n",
    "5) Seaborn\n"
   ]
  },
  {
   "cell_type": "markdown",
   "id": "bd3639d0",
   "metadata": {},
   "source": [
    "| Data Science Tools |\n",
    "|--------------------|\n",
    "| Jupyter Notebook   |\n",
    "| RStudio            |\n",
    "| Apache Zeppelin    |"
   ]
  },
  {
   "cell_type": "markdown",
   "id": "2c126703",
   "metadata": {},
   "source": [
    "### Below are a few examples of evaluating arithmetic expressions in Python.\n"
   ]
  },
  {
   "cell_type": "code",
   "execution_count": 4,
   "id": "3b5d7b6c",
   "metadata": {},
   "outputs": [
    {
     "data": {
      "text/plain": [
       "17"
      ]
     },
     "execution_count": 4,
     "metadata": {},
     "output_type": "execute_result"
    }
   ],
   "source": [
    "# This a simple arithmetic expression to mutiply then add integers\n",
    "\n",
    "(3*4)+5"
   ]
  },
  {
   "cell_type": "code",
   "execution_count": 6,
   "id": "0ba758c5",
   "metadata": {
    "scrolled": true
   },
   "outputs": [
    {
     "name": "stdout",
     "output_type": "stream",
     "text": [
      "3.3333333333333335\n",
      "hours\n"
     ]
    }
   ],
   "source": [
    "# This will convert 200 minutes to hours by diving by 60\n",
    "x = 200/60\n",
    "\n",
    "print(x)\n",
    "print(\"hours\")"
   ]
  },
  {
   "cell_type": "markdown",
   "id": "e602d56d",
   "metadata": {},
   "source": [
    "\n",
    "**Objectives:**\n",
    "\n",
    "- Popular languages for Data Science\n",
    "- Simple math in python\n",
    "- Creating Tables\n",
    "- Popular libraries in data Science\n",
    "- Conversions in Math in Python\n",
    "\n"
   ]
  },
  {
   "cell_type": "markdown",
   "id": "ecee941e",
   "metadata": {},
   "source": [
    "## Author\n",
    "Rakin Maredia"
   ]
  },
  {
   "cell_type": "code",
   "execution_count": null,
   "id": "4724e665",
   "metadata": {},
   "outputs": [],
   "source": []
  }
 ],
 "metadata": {
  "kernelspec": {
   "display_name": "Python 3 (ipykernel)",
   "language": "python",
   "name": "python3"
  },
  "language_info": {
   "codemirror_mode": {
    "name": "ipython",
    "version": 3
   },
   "file_extension": ".py",
   "mimetype": "text/x-python",
   "name": "python",
   "nbconvert_exporter": "python",
   "pygments_lexer": "ipython3",
   "version": "3.11.4"
  }
 },
 "nbformat": 4,
 "nbformat_minor": 5
}
